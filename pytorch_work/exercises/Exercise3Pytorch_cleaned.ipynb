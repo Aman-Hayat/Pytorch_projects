{
  "cells": [
    {
      "cell_type": "code",
      "execution_count": 22,
      "metadata": {
        "executionInfo": {
          "elapsed": 32,
          "status": "ok",
          "timestamp": 1750862284782,
          "user": {
            "displayName": "aman",
            "userId": "07502157542619796475"
          },
          "user_tz": -330
        },
        "id": "qJTf0TYYQUqd"
      },
      "outputs": [],
      "source": [
        "import torch\n",
        "import matplotlib.pyplot as plt\n",
        "from torch import nn\n",
        "import torchvision\n",
        "from torchvision import datasets\n",
        "from torchvision import transforms\n",
        "from torchvision.transforms import ToTensor"
      ]
    },
    {
      "cell_type": "code",
      "execution_count": 23,
      "metadata": {
        "executionInfo": {
          "elapsed": 35,
          "status": "ok",
          "timestamp": 1750862284797,
          "user": {
            "displayName": "aman",
            "userId": "07502157542619796475"
          },
          "user_tz": -330
        },
        "id": "L52-xrlkQf2Z"
      },
      "outputs": [],
      "source": [
        "trainData = datasets.MNIST(\n",
        "    root = \"data\",\n",
        "    train = True,\n",
        "    download=True,\n",
        "    transform=ToTensor(),\n",
        "    target_transform=None\n",
        ")\n",
        "\n",
        "testData = datasets.MNIST(\n",
        "    root = \"data\",\n",
        "    train = False,\n",
        "    download=True,\n",
        "    transform=ToTensor(),\n",
        "    target_transform=None\n",
        ")"
      ]
    },
    {
      "cell_type": "code",
      "execution_count": 24,
      "metadata": {
        "colab": {
          "base_uri": "https://localhost:8080/"
        },
        "executionInfo": {
          "elapsed": 55,
          "status": "ok",
          "timestamp": 1750862284862,
          "user": {
            "displayName": "aman",
            "userId": "07502157542619796475"
          },
          "user_tz": -330
        },
        "id": "zxZr0GcHRGpz",
        "outputId": "cb1023bc-f9cc-422d-8ce5-91b89a5db0e7"
      },
      "outputs": [
        {
          "output_type": "execute_result",
          "data": {
            "text/plain": [
              "(60000, 10000)"
            ]
          },
          "metadata": {},
          "execution_count": 24
        }
      ],
      "source": [
        "len(trainData), len(testData)"
      ]
    },
    {
      "cell_type": "code",
      "execution_count": 25,
      "metadata": {
        "colab": {
          "base_uri": "https://localhost:8080/",
          "height": 36
        },
        "executionInfo": {
          "elapsed": 24,
          "status": "ok",
          "timestamp": 1750862284863,
          "user": {
            "displayName": "aman",
            "userId": "07502157542619796475"
          },
          "user_tz": -330
        },
        "id": "osmthrgJZ1Xz",
        "outputId": "d0d1d955-ed20-49b6-9fcd-b32ac4584d10"
      },
      "outputs": [
        {
          "output_type": "execute_result",
          "data": {
            "text/plain": [
              "'cuda'"
            ],
            "application/vnd.google.colaboratory.intrinsic+json": {
              "type": "string"
            }
          },
          "metadata": {},
          "execution_count": 25
        }
      ],
      "source": [
        "device = \"cuda\" if torch.cuda.is_available() else \"cpu\"\n",
        "device"
      ]
    },
    {
      "cell_type": "code",
      "execution_count": 26,
      "metadata": {
        "colab": {
          "base_uri": "https://localhost:8080/",
          "height": 469
        },
        "executionInfo": {
          "elapsed": 159,
          "status": "ok",
          "timestamp": 1750862285003,
          "user": {
            "displayName": "aman",
            "userId": "07502157542619796475"
          },
          "user_tz": -330
        },
        "id": "B65WNWJOSPj4",
        "outputId": "f400410a-a402-4b81-c782-d5207b0c47d3"
      },
      "outputs": [
        {
          "output_type": "execute_result",
          "data": {
            "text/plain": [
              "Text(0.5, 1.0, '5')"
            ]
          },
          "metadata": {},
          "execution_count": 26
        },
        {
          "output_type": "display_data",
          "data": {
            "text/plain": [
              "<Figure size 640x480 with 1 Axes>"
            ],
            "image/png": "[encoded data removed]"
          },
          "metadata": {}
        }
      ],
      "source": [
        "import random\n",
        "x = random.randint(0, 60000)\n",
        "image, label = trainData[x]\n",
        "image.shape\n",
        "plt.imshow(image.squeeze(), cmap = 'gray')\n",
        "plt.title(label)"
      ]
    },
    {
      "cell_type": "code",
      "execution_count": 27,
      "metadata": {
        "executionInfo": {
          "elapsed": 11,
          "status": "ok",
          "timestamp": 1750862285025,
          "user": {
            "displayName": "aman",
            "userId": "07502157542619796475"
          },
          "user_tz": -330
        },
        "id": "jxd8oRcvS46b"
      },
      "outputs": [],
      "source": [
        "from torch.utils.data import DataLoader\n",
        "\n",
        "train_DataLoader = DataLoader(\n",
        "                             dataset=trainData,\n",
        "                             batch_size=32,\n",
        "                             shuffle = True,\n",
        "                             )\n",
        "\n",
        "test_DataLoader = DataLoader(\n",
        "                             dataset=testData,\n",
        "                             batch_size=32,\n",
        "                             shuffle = True,\n",
        "                             )"
      ]
    },
    {
      "cell_type": "code",
      "execution_count": 28,
      "metadata": {
        "executionInfo": {
          "elapsed": 35,
          "status": "ok",
          "timestamp": 1750862285062,
          "user": {
            "displayName": "aman",
            "userId": "07502157542619796475"
          },
          "user_tz": -330
        },
        "id": "EPQLTdaqUIWL"
      },
      "outputs": [],
      "source": [
        "class MNISTModel(nn.Module):\n",
        "  def __init__(self, input_shape, hidden_units, output_shape):\n",
        "    super().__init__()\n",
        "    self.convBlock1 = nn.Sequential(\n",
        "        nn.Conv2d(\n",
        "            in_channels=input_shape,\n",
        "            out_channels=hidden_units,\n",
        "            kernel_size = 3,\n",
        "            stride = 1,\n",
        "            padding = 0\n",
        "        ),\n",
        "        nn.ReLU(),\n",
        "        nn.Conv2d(\n",
        "            in_channels=hidden_units,\n",
        "            out_channels=hidden_units,\n",
        "            kernel_size = 3,\n",
        "            stride = 1,\n",
        "            padding = 0\n",
        "        ),\n",
        "        nn.ReLU(),\n",
        "        nn.MaxPool2d(\n",
        "            kernel_size=2,\n",
        "            stride=2,\n",
        "        )\n",
        "    )\n",
        "    self.convBlock2 = nn.Sequential(\n",
        "        nn.Conv2d(\n",
        "            in_channels=hidden_units,\n",
        "            out_channels=hidden_units,\n",
        "            kernel_size = 3,\n",
        "            stride = 1,\n",
        "            padding = 0\n",
        "        ),\n",
        "        nn.ReLU(),\n",
        "        nn.Conv2d(\n",
        "            in_channels=hidden_units,\n",
        "            out_channels=hidden_units,\n",
        "            kernel_size = 3,\n",
        "            stride = 1,\n",
        "            padding = 0\n",
        "        ),\n",
        "        nn.ReLU(),\n",
        "        nn.MaxPool2d(\n",
        "            kernel_size=2,\n",
        "            stride=2,\n",
        "        )\n",
        "    )\n",
        "    # in __init__ after building convBlocks:\n",
        "    with torch.no_grad():\n",
        "      dummy = torch.zeros(1, input_shape, 28, 28)\n",
        "      n_flatten = self.convBlock2(self.convBlock1(dummy)).numel()\n",
        "    self.Classifier = nn.Sequential(\n",
        "      nn.Flatten(),\n",
        "      nn.Linear(n_flatten, output_shape)\n",
        ")\n",
        "\n",
        "\n",
        "  def forward(self, x : torch.Tensor):\n",
        "    x = self.convBlock1(x)\n",
        "    x = self.convBlock2(x)\n",
        "    x = self.Classifier(x)\n",
        "    return x"
      ]
    },
    {
      "cell_type": "code",
      "execution_count": 29,
      "metadata": {
        "colab": {
          "base_uri": "https://localhost:8080/"
        },
        "executionInfo": {
          "elapsed": 9,
          "status": "ok",
          "timestamp": 1750862285082,
          "user": {
            "displayName": "aman",
            "userId": "07502157542619796475"
          },
          "user_tz": -330
        },
        "id": "bRQyUAtwWQfE",
        "outputId": "80533812-08ba-4678-8378-8d30c4752ff7"
      },
      "outputs": [
        {
          "output_type": "stream",
          "name": "stdout",
          "text": [
            "helper_functions.py already exists\n"
          ]
        }
      ],
      "source": [
        "from tqdm.auto import tqdm\n",
        "import requests\n",
        "from pathlib import Path\n",
        "\n",
        "if Path(\"helper_functions.py\").is_file():\n",
        "  print(\"helper_functions.py already exists\")\n",
        "else:\n",
        "  print(\"Downloading helper_functions.py\")\n",
        "  request = requests.get(\"https://raw.githubusercontent.com/mrdbourke/pytorch-deep-learning/main/helper_functions.py\")\n",
        "  with open(\"helper_functions.py\", \"wb\") as f:\n",
        "    f.write(request.content)\n"
      ]
    },
    {
      "cell_type": "code",
      "execution_count": 30,
      "metadata": {
        "executionInfo": {
          "elapsed": 25,
          "status": "ok",
          "timestamp": 1750862285109,
          "user": {
            "displayName": "aman",
            "userId": "07502157542619796475"
          },
          "user_tz": -330
        },
        "id": "Q0Prt-l_Web4"
      },
      "outputs": [],
      "source": [
        "from helper_functions import accuracy_fn\n",
        "from helper_functions import print_train_time\n",
        "from timeit import default_timer as timer"
      ]
    },
    {
      "cell_type": "code",
      "execution_count": 42,
      "metadata": {
        "executionInfo": {
          "elapsed": 4,
          "status": "ok",
          "timestamp": 1750862606399,
          "user": {
            "displayName": "aman",
            "userId": "07502157542619796475"
          },
          "user_tz": -330
        },
        "id": "2kKMGDS6X4lL"
      },
      "outputs": [],
      "source": [
        "model = MNISTModel(1, 30, 10).to(device)\n",
        "loss = nn.CrossEntropyLoss()\n",
        "optimizer = torch.optim.SGD(params=model.parameters(), lr = 0.1)"
      ]
    },
    {
      "cell_type": "code",
      "execution_count": 32,
      "metadata": {
        "executionInfo": {
          "elapsed": 1,
          "status": "ok",
          "timestamp": 1750862285117,
          "user": {
            "displayName": "aman",
            "userId": "07502157542619796475"
          },
          "user_tz": -330
        },
        "id": "paLM_WrvXDJY"
      },
      "outputs": [],
      "source": [
        "def trainLoop(model : nn.Module,\n",
        "              loss_fn,\n",
        "              acc_fn,\n",
        "              optimizer,\n",
        "              dataloader,\n",
        "              device = device):\n",
        "  model.train()\n",
        "  trainloss = 0\n",
        "  trainacc = 0\n",
        "  for batch, (X, y) in enumerate(dataloader):\n",
        "    X, y = X.to(device), y.to(device)\n",
        "    yPred = model(X)\n",
        "    loss = loss_fn(yPred, y)\n",
        "    trainloss += loss\n",
        "    trainacc += accuracy_fn(y_true=y, y_pred=yPred.argmax(dim=1))\n",
        "\n",
        "    optimizer.zero_grad()\n",
        "    loss.backward()\n",
        "    optimizer.step()\n",
        "\n",
        "  trainloss /= len(dataloader)\n",
        "  trainacc /= len(dataloader)\n",
        "\n",
        "  print(f\"Train loss: {trainloss:.5f} Train acc: {trainacc:.2f}%\\n\")\n"
      ]
    },
    {
      "cell_type": "code",
      "execution_count": 33,
      "metadata": {
        "executionInfo": {
          "elapsed": 11,
          "status": "ok",
          "timestamp": 1750862285130,
          "user": {
            "displayName": "aman",
            "userId": "07502157542619796475"
          },
          "user_tz": -330
        },
        "id": "sU-rjacMZsSp"
      },
      "outputs": [],
      "source": [
        "def testloop(model : nn.Module,\n",
        "              loss_fn,\n",
        "              acc_fn,\n",
        "              dataloader,\n",
        "              device = device):\n",
        "  model.eval()\n",
        "  testloss, testacc = 0, 0\n",
        "  with torch.inference_mode():\n",
        "    for X, y in dataloader:\n",
        "      X, y = X.to(device), y.to(device)\n",
        "      testpred = model(X)\n",
        "      testloss += loss_fn(testpred, y)\n",
        "      testacc += accuracy_fn(y_true=y, y_pred=testpred.argmax(dim=1))\n",
        "\n",
        "    testloss /= len(dataloader)\n",
        "    testacc /= len(dataloader)\n",
        "\n",
        "  print(f\"Test loss: {testloss:.5f} | Test acc: {testacc:.2f}%\\n\")\n"
      ]
    },
    {
      "cell_type": "code",
      "execution_count": 49,
      "metadata": {
        "colab": {
          "base_uri": "https://localhost:8080/",
          "height": 413,
          "referenced_widgets": [
            "f15cf6a20af747d182107f565f51e0f2",
            "2eafc8b1595349a1adae7f6e10aa9213",
            "102cb795e7254b708b3f0b659f4fa9bd",
            "bd202bdee9d445bcbc2abf42bb3a3fa8",
            "8c745bfc34f04940bd736066a6a4644a",
            "21cc8163472848119ca81e3778fa91c3",
            "ded8cafd5c184a109729219788f49623",
            "dcf3911906cc43359fd24e5f0bcf6512",
            "c4315827faa94b239e86dad5d4b8b1a8",
            "b8672db1ba944d139285f59fd0406592",
            "7e0d2bcac4a44389a8f568eb2af4d606"
          ]
        },
        "id": "k6J8ZrCuaQ1O",
        "executionInfo": {
          "status": "ok",
          "timestamp": 1750862835870,
          "user_tz": -330,
          "elapsed": 36815,
          "user": {
            "displayName": "aman",
            "userId": "07502157542619796475"
          }
        },
        "outputId": "b6d36ed4-096c-41aa-b60c-73672f5cd559"
      },
      "outputs": [
        {
          "output_type": "display_data",
          "data": {
            "text/plain": [
              "  0%|          | 0/3 [00:00<?, ?it/s]"
            ],
            "application/vnd.jupyter.widget-view+json": {
              "version_major": 2,
              "version_minor": 0,
              "model_id": "f15cf6a20af747d182107f565f51e0f2"
            }
          },
          "metadata": {}
        },
        {
          "output_type": "stream",
          "name": "stdout",
          "text": [
            "Epoch: 0\n",
            "---------\n",
            "Train loss: 0.18197 Train acc: 94.40%\n",
            "\n",
            "Test loss: 0.05937 | Test acc: 98.14%\n",
            "\n",
            "Epoch: 1\n",
            "---------\n",
            "Train loss: 0.05966 Train acc: 98.16%\n",
            "\n",
            "Test loss: 0.03683 | Test acc: 98.77%\n",
            "\n",
            "Epoch: 2\n",
            "---------\n",
            "Train loss: 0.04374 Train acc: 98.62%\n",
            "\n",
            "Test loss: 0.03760 | Test acc: 98.80%\n",
            "\n",
            "\n",
            "Train time on cuda: 35.078 seconds\n"
          ]
        },
        {
          "output_type": "execute_result",
          "data": {
            "text/plain": [
              "35.07830915800014"
            ]
          },
          "metadata": {},
          "execution_count": 49
        }
      ],
      "source": [
        "torch.manual_seed(42)\n",
        "train_time_start_on_cpu = timer()\n",
        "\n",
        "epochs = 3\n",
        "\n",
        "for epoch in tqdm(range(epochs)):\n",
        "  print(f\"Epoch: {epoch}\\n---------\")\n",
        "  trainLoop(\n",
        "      model = model,\n",
        "      loss_fn = loss,\n",
        "      acc_fn = accuracy_fn,\n",
        "      optimizer = optimizer,\n",
        "      dataloader = train_DataLoader\n",
        "  )\n",
        "  testloop(\n",
        "      model = model,\n",
        "      loss_fn = loss,\n",
        "      acc_fn = accuracy_fn,\n",
        "      dataloader = test_DataLoader\n",
        "  )\n",
        "\n",
        "train_time_end_on_cpu = timer()\n",
        "\n",
        "print_train_time(start=train_time_start_on_cpu,\n",
        "                 end=train_time_end_on_cpu,\n",
        "                 device=device)\n"
      ]
    },
    {
      "cell_type": "code",
      "execution_count": 35,
      "metadata": {
        "executionInfo": {
          "elapsed": 34,
          "status": "ok",
          "timestamp": 1750862322329,
          "user": {
            "displayName": "aman",
            "userId": "07502157542619796475"
          },
          "user_tz": -330
        },
        "id": "aopx5_mDice2"
      },
      "outputs": [],
      "source": [
        "class LinearModel(nn.Module):\n",
        "  def __init__(self, inputShape, hiddenUnits, outputShape):\n",
        "    super().__init__()\n",
        "    self.layerStack = nn.Sequential(\n",
        "        nn.Flatten(), # Flatten the input\n",
        "        nn.Linear(in_features=inputShape, out_features=hiddenUnits),\n",
        "        nn.ReLU(),\n",
        "        nn.Linear(in_features=hiddenUnits, out_features=hiddenUnits), # Corrected in_features here\n",
        "        nn.ReLU(),\n",
        "        nn.Linear(in_features=hiddenUnits, out_features=outputShape), # Corrected in_features here\n",
        "    )\n",
        "\n",
        "  def forward(self, x):\n",
        "    return self.layerStack(x)"
      ]
    },
    {
      "cell_type": "code",
      "source": [
        "torch.manual_seed(42)\n",
        "train_time_start_on_cpu = timer()\n",
        "\n",
        "epochs = 3\n",
        "\n",
        "# Create an instance of the LinearModel class\n",
        "model_linear = LinearModel(inputShape=784, hiddenUnits=20, outputShape=10).to(device)\n",
        "loss = nn.CrossEntropyLoss()\n",
        "optimizer_linear = torch.optim.SGD(params=model_linear.parameters(), lr = 0.1)\n",
        "\n",
        "\n",
        "for epoch in tqdm(range(epochs)):\n",
        "  print(f\"Epoch: {epoch}\\n---------\")\n",
        "  trainLoop(\n",
        "      model = model_linear,\n",
        "      loss_fn = loss,\n",
        "      acc_fn = accuracy_fn,\n",
        "      optimizer = optimizer_linear,\n",
        "      dataloader = train_DataLoader\n",
        "  )\n",
        "  testloop(\n",
        "      model = model_linear,\n",
        "      loss_fn = loss,\n",
        "      acc_fn = accuracy_fn,\n",
        "      dataloader = test_DataLoader\n",
        "  )\n",
        "\n",
        "train_time_end_on_cpu = timer()\n",
        "\n",
        "print_train_time(start=train_time_start_on_cpu,\n",
        "                 end=train_time_end_on_cpu,\n",
        "                 device=device)"
      ],
      "metadata": {
        "colab": {
          "base_uri": "https://localhost:8080/",
          "height": 413,
          "referenced_widgets": [
            "8fc2ae6efd094d9c8776ccc1b9a2ac26",
            "848c9eab25c648019d2359d3ff5c203e",
            "41bb5d76bf974d25a70d6bfdffd250e0",
            "583de1a6b671482aac7e3c9e7564b34a",
            "1c9ef7356b8941daac266f0767f090b5",
            "445be61cfec0481aadab09725f75d01c",
            "46b1743ee16747ea9bf5a46d28ed9480",
            "62f4285abd9844c28cbe3afe72af868f",
            "018b7a3525e54531b7e18da908a7c330",
            "45edb51bbc9d4ab0823bf7157e5918c4",
            "51e54b419f384fa2a2ffa5ed12599dec"
          ]
        },
        "id": "gWGU2rnfgFG-",
        "executionInfo": {
          "status": "ok",
          "timestamp": 1750862355983,
          "user_tz": -330,
          "elapsed": 33660,
          "user": {
            "displayName": "aman",
            "userId": "07502157542619796475"
          }
        },
        "outputId": "56dc6a64-eba6-4af6-b04f-940c000cae86"
      },
      "execution_count": 36,
      "outputs": [
        {
          "output_type": "display_data",
          "data": {
            "text/plain": [
              "  0%|          | 0/3 [00:00<?, ?it/s]"
            ],
            "application/vnd.jupyter.widget-view+json": {
              "version_major": 2,
              "version_minor": 0,
              "model_id": "8fc2ae6efd094d9c8776ccc1b9a2ac26"
            }
          },
          "metadata": {}
        },
        {
          "output_type": "stream",
          "name": "stdout",
          "text": [
            "Epoch: 0\n",
            "---------\n",
            "Train loss: 0.45258 Train acc: 86.22%\n",
            "\n",
            "Test loss: 0.27151 | Test acc: 91.90%\n",
            "\n",
            "Epoch: 1\n",
            "---------\n",
            "Train loss: 0.21337 Train acc: 93.65%\n",
            "\n",
            "Test loss: 0.20612 | Test acc: 93.72%\n",
            "\n",
            "Epoch: 2\n",
            "---------\n",
            "Train loss: 0.17342 Train acc: 94.74%\n",
            "\n",
            "Test loss: 0.17892 | Test acc: 94.57%\n",
            "\n",
            "\n",
            "Train time on cuda: 33.678 seconds\n"
          ]
        },
        {
          "output_type": "execute_result",
          "data": {
            "text/plain": [
              "33.67762854400007"
            ]
          },
          "metadata": {},
          "execution_count": 36
        }
      ]
    },
    {
      "cell_type": "code",
      "source": [
        "trainData2 = datasets.FashionMNIST(\n",
        "    root = \"data\",\n",
        "    train = True,\n",
        "    download=True,\n",
        "    transform=ToTensor(),\n",
        "    target_transform=None\n",
        ")\n",
        "\n",
        "testData2 = datasets.FashionMNIST(\n",
        "    root = \"data\",\n",
        "    train = False,\n",
        "    download=True,\n",
        "    transform=ToTensor(),\n",
        "    target_transform=None\n",
        ")"
      ],
      "metadata": {
        "id": "d_sLBNyKgLDt",
        "executionInfo": {
          "status": "ok",
          "timestamp": 1750862432695,
          "user_tz": -330,
          "elapsed": 57,
          "user": {
            "displayName": "aman",
            "userId": "07502157542619796475"
          }
        }
      },
      "execution_count": 38,
      "outputs": []
    },
    {
      "cell_type": "code",
      "source": [
        "train_DataLoader2 = DataLoader(\n",
        "                             dataset=trainData2,\n",
        "                             batch_size=32,\n",
        "                             shuffle = True,\n",
        "                             )\n",
        "\n",
        "test_DataLoader2 = DataLoader(\n",
        "                             dataset=testData2,\n",
        "                             batch_size=32,\n",
        "                             shuffle = True,\n",
        "                             )"
      ],
      "metadata": {
        "id": "2b2oMCBBiDfa",
        "executionInfo": {
          "status": "ok",
          "timestamp": 1750863030709,
          "user_tz": -330,
          "elapsed": 4,
          "user": {
            "displayName": "aman",
            "userId": "07502157542619796475"
          }
        }
      },
      "execution_count": 52,
      "outputs": []
    },
    {
      "cell_type": "code",
      "source": [
        "torch.manual_seed(42)\n",
        "train_time_start_on_cpu = timer()\n",
        "\n",
        "epochs = 3\n",
        "\n",
        "# Create an instance of the LinearModel class\n",
        "model_linear = LinearModel(inputShape=784, hiddenUnits=20, outputShape=10).to(device)\n",
        "loss = nn.CrossEntropyLoss()\n",
        "optimizer_linear = torch.optim.SGD(params=model_linear.parameters(), lr = 0.1)\n",
        "\n",
        "\n",
        "for epoch in tqdm(range(epochs)):\n",
        "  print(f\"Epoch: {epoch}\\n---------\")\n",
        "  trainLoop(\n",
        "      model = model_linear,\n",
        "      loss_fn = loss,\n",
        "      acc_fn = accuracy_fn,\n",
        "      optimizer = optimizer_linear,\n",
        "      dataloader = train_DataLoader2\n",
        "  )\n",
        "  testloop(\n",
        "      model = model_linear,\n",
        "      loss_fn = loss,\n",
        "      acc_fn = accuracy_fn,\n",
        "      dataloader = test_DataLoader2\n",
        "  )\n",
        "\n",
        "train_time_end_on_cpu = timer()\n",
        "\n",
        "print_train_time(start=train_time_start_on_cpu,\n",
        "                 end=train_time_end_on_cpu,\n",
        "                 device=device)"
      ],
      "metadata": {
        "colab": {
          "base_uri": "https://localhost:8080/",
          "height": 413,
          "referenced_widgets": [
            "1756b93994184d1ebb4c54c294375578",
            "6c8aaa7e8551432a9f8a9016000ddd21",
            "798ca11eaaaa457d9c09600f863e3ddd",
            "9b475e5062434a45b3011cb919e7bcd7",
            "e9a647ebc45b4713a9745c88bc99d30a",
            "dea75ecc050940989f093de6958786ee",
            "ea5ec9af2c06482c8e43faee583b9092",
            "fee3ef32db5d49c88b0fc481a2b99d61",
            "40066f5eb0d94a6c809476e8396d36b7",
            "cd3783c2ae014b62806217da2c289485",
            "68b6b4c56f584e75b96dfe7f8796adac"
          ]
        },
        "id": "W2xsHL3WiTbs",
        "executionInfo": {
          "status": "ok",
          "timestamp": 1750863061415,
          "user_tz": -330,
          "elapsed": 29770,
          "user": {
            "displayName": "aman",
            "userId": "07502157542619796475"
          }
        },
        "outputId": "86dbc5de-d78e-48f5-a5e9-cbcbbdb5fce5"
      },
      "execution_count": 53,
      "outputs": [
        {
          "output_type": "display_data",
          "data": {
            "text/plain": [
              "  0%|          | 0/3 [00:00<?, ?it/s]"
            ],
            "application/vnd.jupyter.widget-view+json": {
              "version_major": 2,
              "version_minor": 0,
              "model_id": "1756b93994184d1ebb4c54c294375578"
            }
          },
          "metadata": {}
        },
        {
          "output_type": "stream",
          "name": "stdout",
          "text": [
            "Epoch: 0\n",
            "---------\n",
            "Train loss: 0.64947 Train acc: 75.91%\n",
            "\n",
            "Test loss: 0.46741 | Test acc: 83.27%\n",
            "\n",
            "Epoch: 1\n",
            "---------\n",
            "Train loss: 0.44841 Train acc: 83.56%\n",
            "\n",
            "Test loss: 0.48464 | Test acc: 81.18%\n",
            "\n",
            "Epoch: 2\n",
            "---------\n",
            "Train loss: 0.41138 Train acc: 84.94%\n",
            "\n",
            "Test loss: 0.45423 | Test acc: 83.30%\n",
            "\n",
            "\n",
            "Train time on cuda: 29.783 seconds\n"
          ]
        },
        {
          "output_type": "execute_result",
          "data": {
            "text/plain": [
              "29.783075912999948"
            ]
          },
          "metadata": {},
          "execution_count": 53
        }
      ]
    },
    {
      "cell_type": "code",
      "source": [
        "torch.manual_seed(42)\n",
        "train_time_start_on_cpu = timer()\n",
        "\n",
        "epochs = 4\n",
        "\n",
        "for epoch in tqdm(range(epochs)):\n",
        "  print(f\"Epoch: {epoch}\\n---------\")\n",
        "  trainLoop(\n",
        "      model = model,\n",
        "      loss_fn = loss,\n",
        "      acc_fn = accuracy_fn,\n",
        "      optimizer = optimizer,\n",
        "      dataloader = train_DataLoader2\n",
        "  )\n",
        "  testloop(\n",
        "      model = model,\n",
        "      loss_fn = loss,\n",
        "      acc_fn = accuracy_fn,\n",
        "      dataloader = test_DataLoader2\n",
        "  )\n",
        "\n",
        "train_time_end_on_cpu = timer()\n",
        "\n",
        "print_train_time(start=train_time_start_on_cpu,\n",
        "                 end=train_time_end_on_cpu,\n",
        "                 device=device)\n"
      ],
      "metadata": {
        "colab": {
          "base_uri": "https://localhost:8080/",
          "height": 517,
          "referenced_widgets": [
            "58164e2bec9e4ae8a8a9ee0614dddfe6",
            "3799385f6f754f97b852fb66d2f6d885",
            "c7806c1af9354d9fa9cd471aa1042319",
            "9c953b50f25542bb9755ccf065010991",
            "134c0a21fa1445f2b40380d11226bf40",
            "7f3b344c69a44c0587375b587c672317",
            "620122307e004cab82e2eec8d7a32db0",
            "7023ce28eb4840b7a0d59b00343b21d0",
            "8d0b0e790f8e4f5084956ef584e8d112",
            "dd502a5c56ad457f819a7ff4fd910df0",
            "4ab90e8ee54d4b4bbdb633586d39fb24"
          ]
        },
        "id": "mr699p7FiePu",
        "executionInfo": {
          "status": "ok",
          "timestamp": 1750863110494,
          "user_tz": -330,
          "elapsed": 46495,
          "user": {
            "displayName": "aman",
            "userId": "07502157542619796475"
          }
        },
        "outputId": "8da1d8b4-28a3-4122-a5b4-bff5423b7c51"
      },
      "execution_count": 54,
      "outputs": [
        {
          "output_type": "display_data",
          "data": {
            "text/plain": [
              "  0%|          | 0/4 [00:00<?, ?it/s]"
            ],
            "application/vnd.jupyter.widget-view+json": {
              "version_major": 2,
              "version_minor": 0,
              "model_id": "58164e2bec9e4ae8a8a9ee0614dddfe6"
            }
          },
          "metadata": {}
        },
        {
          "output_type": "stream",
          "name": "stdout",
          "text": [
            "Epoch: 0\n",
            "---------\n",
            "Train loss: 0.45746 Train acc: 83.51%\n",
            "\n",
            "Test loss: 0.39971 | Test acc: 85.75%\n",
            "\n",
            "Epoch: 1\n",
            "---------\n",
            "Train loss: 0.33437 Train acc: 87.83%\n",
            "\n",
            "Test loss: 0.36251 | Test acc: 87.17%\n",
            "\n",
            "Epoch: 2\n",
            "---------\n",
            "Train loss: 0.30182 Train acc: 89.15%\n",
            "\n",
            "Test loss: 0.35384 | Test acc: 87.49%\n",
            "\n",
            "Epoch: 3\n",
            "---------\n",
            "Train loss: 0.28244 Train acc: 89.84%\n",
            "\n",
            "Test loss: 0.31021 | Test acc: 88.89%\n",
            "\n",
            "\n",
            "Train time on cuda: 46.483 seconds\n"
          ]
        },
        {
          "output_type": "execute_result",
          "data": {
            "text/plain": [
              "46.48293313399995"
            ]
          },
          "metadata": {},
          "execution_count": 54
        }
      ]
    },
    {
      "cell_type": "code",
      "source": [
        "model2 = MNISTModel(1, 30, 10).to(device)\n",
        "loss = nn.CrossEntropyLoss()\n",
        "optimizer = torch.optim.SGD(params=model2.parameters(), lr = 0.15)"
      ],
      "metadata": {
        "id": "V9-a7EOLjuUq",
        "executionInfo": {
          "status": "ok",
          "timestamp": 1750863480468,
          "user_tz": -330,
          "elapsed": 4,
          "user": {
            "displayName": "aman",
            "userId": "07502157542619796475"
          }
        }
      },
      "execution_count": 67,
      "outputs": []
    },
    {
      "cell_type": "code",
      "source": [
        "torch.manual_seed(42)\n",
        "train_time_start_on_gpu = timer()\n",
        "\n",
        "epochs = 4\n",
        "\n",
        "for epoch in tqdm(range(epochs)):\n",
        "  print(f\"Epoch: {epoch}\\n---------\")\n",
        "  trainLoop(\n",
        "      model = model2,\n",
        "      loss_fn = loss,\n",
        "      acc_fn = accuracy_fn,\n",
        "      optimizer = optimizer,\n",
        "      dataloader = train_DataLoader2\n",
        "  )\n",
        "  testloop(\n",
        "      model = model2,\n",
        "      loss_fn = loss,\n",
        "      acc_fn = accuracy_fn,\n",
        "      dataloader = test_DataLoader2\n",
        "  )\n",
        "\n",
        "train_time_end_on_gpu = timer()\n",
        "\n",
        "print_train_time(start=train_time_start_on_gpu,\n",
        "                 end=train_time_end_on_gpu,\n",
        "                 device=device)\n"
      ],
      "metadata": {
        "colab": {
          "base_uri": "https://localhost:8080/",
          "height": 517,
          "referenced_widgets": [
            "092dd8b4c2534b7ba5d3b86c902ee834",
            "9800384e9212485c83d5ff60d35e7406",
            "ad0e58372ff44d4aa50d4347eb82cb21",
            "b5357161cc5f463ca6548dff3bac8cb4",
            "47743e0f4fc24c4aa646e76621ae5555",
            "9ad08584e16d44a0bb41af9566eac652",
            "9f28a3e0807640fc8dd5f26b1f5df8bb",
            "2f4ea5b095494d9382fbb4a4e22abe62",
            "deac28b8a552401b9d330e6bb2e2d6fd",
            "d5c6680c50de4dc3874d3b606a3ef149",
            "861ae3c399c54bb1a670313347abbcfa"
          ]
        },
        "id": "NKvuSMkpjILA",
        "executionInfo": {
          "status": "ok",
          "timestamp": 1750863528555,
          "user_tz": -330,
          "elapsed": 47424,
          "user": {
            "displayName": "aman",
            "userId": "07502157542619796475"
          }
        },
        "outputId": "00338503-07ec-43c2-a0f0-5985d13c9569"
      },
      "execution_count": 68,
      "outputs": [
        {
          "output_type": "display_data",
          "data": {
            "text/plain": [
              "  0%|          | 0/4 [00:00<?, ?it/s]"
            ],
            "application/vnd.jupyter.widget-view+json": {
              "version_major": 2,
              "version_minor": 0,
              "model_id": "092dd8b4c2534b7ba5d3b86c902ee834"
            }
          },
          "metadata": {}
        },
        {
          "output_type": "stream",
          "name": "stdout",
          "text": [
            "Epoch: 0\n",
            "---------\n",
            "Train loss: 0.60319 Train acc: 77.79%\n",
            "\n",
            "Test loss: 0.40848 | Test acc: 85.29%\n",
            "\n",
            "Epoch: 1\n",
            "---------\n",
            "Train loss: 0.36384 Train acc: 86.75%\n",
            "\n",
            "Test loss: 0.36978 | Test acc: 86.72%\n",
            "\n",
            "Epoch: 2\n",
            "---------\n",
            "Train loss: 0.32542 Train acc: 88.22%\n",
            "\n",
            "Test loss: 0.33469 | Test acc: 87.90%\n",
            "\n",
            "Epoch: 3\n",
            "---------\n",
            "Train loss: 0.29879 Train acc: 89.14%\n",
            "\n",
            "Test loss: 0.32882 | Test acc: 88.22%\n",
            "\n",
            "\n",
            "Train time on cuda: 47.723 seconds\n"
          ]
        },
        {
          "output_type": "execute_result",
          "data": {
            "text/plain": [
              "47.72336968499985"
            ]
          },
          "metadata": {},
          "execution_count": 68
        }
      ]
    },
    {
      "cell_type": "code",
      "source": [],
      "metadata": {
        "id": "srkAVBUGjIco"
      },
      "execution_count": null,
      "outputs": []
    }
  ],
  "metadata": {
    "accelerator": "GPU",
    "colab": {
      "gpuType": "T4",
      "provenance": [],
      "authorship_tag": "ABX9TyPB9frY83AZgC45WARtONNQ"
    },
    "kernelspec": {
      "display_name": "Python 3",
      "name": "python3"
    },
    "language_info": {
      "name": "python"
    }
  },
  "nbformat": 4,
  "nbformat_minor": 0
}